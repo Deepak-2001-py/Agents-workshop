{
 "cells": [
  {
   "attachments": {},
   "cell_type": "markdown",
   "id": "ae1f50ec",
   "metadata": {},
   "source": [
    "# Task Solving with Provided Tools as Functions\n"
   ]
  },
  {
   "attachments": {},
   "cell_type": "markdown",
   "id": "9a71fa36",
   "metadata": {},
   "source": [
    "* In this notebook, we demonstrate how to use `AssistantAgent` and `UserProxyAgent` to make function calls with the new feature of latest models like OpenAI / Llama3, etc.\n",
    "\n",
    "* A specified prompt and function configs must be passed to `AssistantAgent` to initialize the agent. \n",
    "\n",
    "* The corresponding functions must be passed to `UserProxyAgent`, which will execute any function calls made by `AssistantAgent`.\n",
    "\n",
    "* Besides this requirement of matching descriptions with functions, we recommend checking the system message in the `AssistantAgent` to ensure the instructions align with the function call descriptions.\n",
    "\n",
    "\n",
    "## Requirements\n",
    "\n",
    "AutoGen requires `Python>=3.8`. To run this notebook example, please install `pyautogen`:\n",
    "```bash\n",
    "pip install pyautogen\n",
    "```"
   ]
  },
  {
   "cell_type": "code",
   "execution_count": 10,
   "id": "2b803c17",
   "metadata": {},
   "outputs": [],
   "source": [
    "# %pip install \"pyautogen>=0.2.3\""
   ]
  },
  {
   "cell_type": "markdown",
   "id": "b9c534d5",
   "metadata": {},
   "source": [
    "### Imports"
   ]
  },
  {
   "cell_type": "code",
   "execution_count": 11,
   "id": "dca301a4",
   "metadata": {},
   "outputs": [],
   "source": [
    "#from typing import Literal\n",
    "from typing_extensions import Annotated\n",
    "import autogen\n",
    "from autogen.cache import Cache\n",
    "from aisTools_r1 import calculate, currency_converter, ddg_search, get_news\n",
    "\n",
    "#config_list = autogen.config_list_from_json(\n",
    "#    \"OAI_CONFIG_LIST\",\n",
    "#    filter_dict={\"tags\": [\"3.5-tool\"]},  # comment out to get all\n",
    "#)"
   ]
  },
  {
   "cell_type": "markdown",
   "id": "1082df8a",
   "metadata": {},
   "source": [
    "### LLM Configuration setting"
   ]
  },
  {
   "cell_type": "code",
   "execution_count": 12,
   "id": "f652657a",
   "metadata": {},
   "outputs": [],
   "source": [
    "import os\n",
    "config_list = [{\"api_type\":\"groq\",\"model\":\"llama3-70b-8192\",\"api_key\":os.environ.get(\"GROQ_API_KEY\"),}]\n",
    "\n",
    "llm_config = {\n",
    "    \"config_list\": config_list,\n",
    "    \"timeout\": 120,\n",
    "}"
   ]
  },
  {
   "cell_type": "markdown",
   "id": "bd9d61cf",
   "metadata": {},
   "source": [
    "## Creating Agents"
   ]
  },
  {
   "cell_type": "code",
   "execution_count": 13,
   "id": "7b3d8b58",
   "metadata": {},
   "outputs": [],
   "source": [
    "# Creating chatbot\n",
    "Assistant_Agent = autogen.AssistantAgent(\n",
    "    name=\"assistant_agent\",\n",
    "    system_message=\"\"\"You are an intelligent agent capable of answering questions and performing tasks, like \n",
    "    For currency exchange tasks, web search tasks and news search tasks when required. only use the functions you have been provided with.\n",
    "    Reply TERMINATE when the task is done.\"\"\",\n",
    "    llm_config=llm_config,\n",
    ")\n",
    "\n",
    "# create a UserProxyAgent instance named \"user_proxy\" \n",
    "user_proxy = autogen.UserProxyAgent(\n",
    "    name=\"user_proxy\",\n",
    "    is_termination_msg=lambda x: x.get(\"content\", \"\") and x.get(\"content\", \"\").rstrip().endswith(\"TERMINATE\"),\n",
    "    human_input_mode=\"NEVER\",\n",
    "    max_consecutive_auto_reply=10,\n",
    ")"
   ]
  },
  {
   "cell_type": "markdown",
   "id": "83e63535",
   "metadata": {},
   "source": [
    "### Tools Functions (converting to autogen recommended format)"
   ]
  },
  {
   "cell_type": "code",
   "execution_count": 14,
   "id": "dd0fe8a2",
   "metadata": {},
   "outputs": [],
   "source": [
    "def currency_converter_ag(\n",
    "    amount: Annotated[str, \"Amount of currency in base_currency\"],\n",
    "    base_currency: Annotated[str, \"Base_currency symbol\"] = \"USD\",\n",
    "    quote_currency: Annotated[str, \"Quote currency symbol\"] = \"GBP\",\n",
    ") -> str:\n",
    "    result = currency_converter(amount, base_currency, quote_currency)\n",
    "    return result\n",
    "\n",
    "def ddg_search_ag(\n",
    "    topic: Annotated[str, \"Topic to search for news\"]=\"world news\",\n",
    "    num_headlines: Annotated[int, \"Number of headlines to return\"] = 5,\n",
    "    )-> str:\n",
    "    search_results = ddg_search(topic, num_headlines)\n",
    "    return search_results\n",
    " \n",
    "def get_news_ag(\n",
    "    topic: Annotated[str, \"Topic to search for news\"]=\"world news\",\n",
    "    num_headlines: Annotated[int, \"Number of headlines to return\"] = 5,\n",
    "    )-> str:\n",
    "    news_results = get_news(topic, num_headlines)\n",
    "    return news_results"
   ]
  },
  {
   "cell_type": "markdown",
   "id": "d049580e",
   "metadata": {},
   "source": [
    "### Registering the tools with Agents"
   ]
  },
  {
   "cell_type": "code",
   "execution_count": 15,
   "id": "8d84cc6c",
   "metadata": {},
   "outputs": [],
   "source": [
    "autogen.agentchat.register_function(\n",
    "    currency_converter_ag,\n",
    "    caller=Assistant_Agent,\n",
    "    executor=user_proxy,\n",
    "    description=\"Currency exchange calculator.\",\n",
    ")\n",
    "\n",
    "autogen.agentchat.register_function(\n",
    "    ddg_search_ag,\n",
    "    caller=Assistant_Agent,\n",
    "    executor=user_proxy,\n",
    "    description=\"Search on DuckDuckGo.\",\n",
    ")\n",
    "\n",
    "autogen.agentchat.register_function(\n",
    "    get_news_ag,\n",
    "    caller=Assistant_Agent,\n",
    "    executor=user_proxy,\n",
    "    description=\"Get latest news.\",\n",
    ")\n"
   ]
  },
  {
   "cell_type": "markdown",
   "id": "4b9047cb",
   "metadata": {},
   "source": [
    "### Checking Tools availability with Assistant Agent"
   ]
  },
  {
   "cell_type": "code",
   "execution_count": 16,
   "id": "971ed0d5",
   "metadata": {},
   "outputs": [
    {
     "data": {
      "text/plain": [
       "[{'type': 'function',\n",
       "  'function': {'description': 'Currency exchange calculator.',\n",
       "   'name': 'currency_converter_ag',\n",
       "   'parameters': {'type': 'object',\n",
       "    'properties': {'amount': {'type': 'string',\n",
       "      'description': 'Amount of currency in base_currency'},\n",
       "     'base_currency': {'type': 'string',\n",
       "      'default': 'USD',\n",
       "      'description': 'Base_currency symbol'},\n",
       "     'quote_currency': {'type': 'string',\n",
       "      'default': 'GBP',\n",
       "      'description': 'Quote currency symbol'}},\n",
       "    'required': ['amount']}}},\n",
       " {'type': 'function',\n",
       "  'function': {'description': 'Search on DuckDuckGo.',\n",
       "   'name': 'ddg_search_ag',\n",
       "   'parameters': {'type': 'object',\n",
       "    'properties': {'topic': {'type': 'string',\n",
       "      'default': 'world news',\n",
       "      'description': 'Topic to search for news'},\n",
       "     'num_headlines': {'type': 'integer',\n",
       "      'default': 5,\n",
       "      'description': 'Number of headlines to return'}},\n",
       "    'required': []}}},\n",
       " {'type': 'function',\n",
       "  'function': {'description': 'Get latest news.',\n",
       "   'name': 'get_news_ag',\n",
       "   'parameters': {'type': 'object',\n",
       "    'properties': {'topic': {'type': 'string',\n",
       "      'default': 'world news',\n",
       "      'description': 'Topic to search for news'},\n",
       "     'num_headlines': {'type': 'integer',\n",
       "      'default': 5,\n",
       "      'description': 'Number of headlines to return'}},\n",
       "    'required': []}}}]"
      ]
     },
     "execution_count": 16,
     "metadata": {},
     "output_type": "execute_result"
    }
   ],
   "source": [
    "Assistant_Agent.llm_config[\"tools\"]"
   ]
  },
  {
   "cell_type": "markdown",
   "id": "4341e118",
   "metadata": {},
   "source": [
    "### Sample 1 Query"
   ]
  },
  {
   "cell_type": "code",
   "execution_count": 17,
   "id": "ab081090",
   "metadata": {},
   "outputs": [
    {
     "name": "stdout",
     "output_type": "stream",
     "text": [
      "\u001b[33muser_proxy\u001b[0m (to assistant_agent):\n",
      "\n",
      "What's the latest news about AI (give bulleted list) and how much is 100 USD in EUR?\n",
      "\n",
      "--------------------------------------------------------------------------------\n",
      "\u001b[33massistant_agent\u001b[0m (to user_proxy):\n",
      "\n",
      "\u001b[32m***** Suggested tool call (call_ktqf): get_news_ag *****\u001b[0m\n",
      "Arguments: \n",
      "{\"num_headlines\":5,\"topic\":\"AI\"}\n",
      "\u001b[32m********************************************************\u001b[0m\n",
      "\u001b[32m***** Suggested tool call (call_sq7b): currency_converter_ag *****\u001b[0m\n",
      "Arguments: \n",
      "{\"amount\":\"100\",\"base_currency\":\"USD\",\"quote_currency\":\"EUR\"}\n",
      "\u001b[32m******************************************************************\u001b[0m\n",
      "\n",
      "--------------------------------------------------------------------------------\n",
      "\u001b[35m\n",
      ">>>>>>>> EXECUTING FUNCTION get_news_ag...\u001b[0m\n",
      "\u001b[35m\n",
      ">>>>>>>> EXECUTING FUNCTION currency_converter_ag...\u001b[0m\n",
      "\u001b[33muser_proxy\u001b[0m (to assistant_agent):\n",
      "\n",
      "\u001b[33muser_proxy\u001b[0m (to assistant_agent):\n",
      "\n",
      "\u001b[32m***** Response from calling tool (call_ktqf) *****\u001b[0m\n",
      "[\n",
      "  {\n",
      "    \"date\": \"2024-10-01T02:52:00+00:00\",\n",
      "    \"title\": \"California Governor Vetoes Proposed AI Safety Bill\",\n",
      "    \"body\": \"The regulations on large AI models proposed in SB 1047 received both support and criticism from the generative AI industry.\",\n",
      "    \"url\": \"https://www.techrepublic.com/article/gavin-newsom-veto-california-ai-bill/\",\n",
      "    \"image\": \"https://assets.techrepublic.com/uploads/2024/09/ai-sep-24.jpg\",\n",
      "    \"source\": \"TechRepublic\"\n",
      "  },\n",
      "  {\n",
      "    \"date\": \"2024-10-01T00:47:00+00:00\",\n",
      "    \"title\": \"This open-source AI tool was built in a day and it's coming for Google's NotebookLM\",\n",
      "    \"body\": \"Open NotebookLM, a free open-source AI tool developed in one day, challenges Google's NotebookLM by converting PDFs to podcasts, highlighting rapid AI development and its implications.\",\n",
      "    \"url\": \"https://venturebeat.com/ai/this-open-source-ai-tool-was-built-in-a-day-and-its-coming-for-googles-notebooklm/\",\n",
      "    \"image\": \"https://venturebeat.com/wp-content/uploads/2024/09/nuneybits_Vector_art_of_robots_talking_on_a_podcast_56a7cab8-fec6-43c2-8cdc-e822c684ca4c.webp?w=1024?w=1200&strip=all\",\n",
      "    \"source\": \"VentureBeat\"\n",
      "  },\n",
      "  {\n",
      "    \"date\": \"2024-10-01T03:14:00+00:00\",\n",
      "    \"title\": \"Generative AI and Copyright\",\n",
      "    \"body\": \"An examination of the copyright issues involved in using and training generative AI (GenAI), including the protection of AI-generated content, the risks and benefits of using GenAI to create content,\",\n",
      "    \"url\": \"https://www.reuters.com/practical-law-the-journal/litigation/generative-ai-copyright-2024-10-01/\",\n",
      "    \"image\": \"https://www.reuters.com/resizer/v2/Y6KV6BTJEFDBJGY6HIYIC3VQZY.jpg?auth=499904307d21b928463d081c9da595c179673735451a0b496e49a76b235e8579&height=1005&width=1920&quality=80&smart=true\",\n",
      "    \"source\": \"Reuters\"\n",
      "  },\n",
      "  {\n",
      "    \"date\": \"2024-09-30T15:53:00+00:00\",\n",
      "    \"title\": \"What Gavin Newsom's AI Safety Bill Veto Means for California\",\n",
      "    \"body\": \"While SB 1047 was vetoed on September 29 by Governor Gavin Newsom, 17 new AI bills were signed into law, changing the landscape of AI regulation in California.\",\n",
      "    \"url\": \"https://www.newsweek.com/what-gavin-newsom-ai-safety-bill-veto-means-california-1961290\",\n",
      "    \"image\": \"https://d.newsweek.com/en/full/2483584/california-gov-gavin-newsom-talks-onstage.jpg\",\n",
      "    \"source\": \"Newsweek\"\n",
      "  },\n",
      "  {\n",
      "    \"date\": \"2024-10-01T03:06:00+00:00\",\n",
      "    \"title\": \"How Small Law Firms Can Leverage Generative AI\",\n",
      "    \"body\": \"An expert Q&A on how small law firms can use generative AI (GenAI) technologies to enhance their efficiency, improve client service, augment their team, and compete more effectively with larger firms.\",\n",
      "    \"url\": \"https://www.reuters.com/practical-law-the-journal/legalindustry/how-small-law-firms-can-leverage-generative-ai-2024-10-01/\",\n",
      "    \"image\": \"https://www.reuters.com/resizer/v2/YPXMS5ONDFGLNCAXKB4LQYVJXE.jpg?auth=d749be9399316900406e9a499b0c16d7e9db1a3b4cd795e1d1b5dace789c557c&height=1005&width=1920&quality=80&smart=true\",\n",
      "    \"source\": \"Reuters\"\n",
      "  }\n",
      "]\n",
      "\u001b[32m**************************************************\u001b[0m\n",
      "\n",
      "--------------------------------------------------------------------------------\n",
      "\u001b[33muser_proxy\u001b[0m (to assistant_agent):\n",
      "\n",
      "\u001b[32m***** Response from calling tool (call_sq7b) *****\u001b[0m\n",
      "89.70\n",
      "\u001b[32m**************************************************\u001b[0m\n",
      "\n",
      "--------------------------------------------------------------------------------\n",
      "\u001b[33massistant_agent\u001b[0m (to user_proxy):\n",
      "\n",
      "100 USD is equivalent to 89.70 EUR.\n",
      "\n",
      "As for the latest news about AI, here's a bulleted list based on the results from the \"get_news_ag\" tool:\n",
      "\n",
      "• California Governor Vetoes Proposed AI Safety Bill\n",
      "• This open-source AI tool was built in a day and it's coming for Google's NotebookLM\n",
      "• Generative AI and Copyright\n",
      "• What Gavin Newsom's AI Safety Bill Veto Means for California\n",
      "• How Small Law Firms Can Leverage Generative AI\n",
      "\n",
      "TERMINATE\n",
      "\n",
      "--------------------------------------------------------------------------------\n"
     ]
    }
   ],
   "source": [
    "with Cache.disk() as cache:\n",
    "    # start the conversation\n",
    "    query = \"What's the latest news about AI (give bulleted list) and how much is 100 USD in EUR?\"\n",
    "    \n",
    "    res = user_proxy.initiate_chat(Assistant_Agent, message=query, summary_method=\"reflection_with_llm\", cache=cache)"
   ]
  }
 ],
 "metadata": {
  "front_matter": {
   "description": "Learn how to register function calls using AssistantAgent and UserProxyAgent in AutoGen.",
   "tags": [
    "function call",
    "tool use"
   ]
  },
  "kernelspec": {
   "display_name": "flaml_dev",
   "language": "python",
   "name": "python3"
  },
  "language_info": {
   "codemirror_mode": {
    "name": "ipython",
    "version": 3
   },
   "file_extension": ".py",
   "mimetype": "text/x-python",
   "name": "python",
   "nbconvert_exporter": "python",
   "pygments_lexer": "ipython3",
   "version": "3.11.10"
  }
 },
 "nbformat": 4,
 "nbformat_minor": 5
}
