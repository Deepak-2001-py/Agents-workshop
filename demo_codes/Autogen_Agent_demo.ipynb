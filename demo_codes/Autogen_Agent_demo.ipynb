{
 "cells": [
  {
   "attachments": {},
   "cell_type": "markdown",
   "id": "ae1f50ec",
   "metadata": {},
   "source": [
    "# Task Solving with Provided Tools as Functions\n"
   ]
  },
  {
   "attachments": {},
   "cell_type": "markdown",
   "id": "9a71fa36",
   "metadata": {},
   "source": [
    "* In this notebook, we demonstrate how to use `AssistantAgent` and `UserProxyAgent` to make function calls with the new feature of latest models like OpenAI / Llama3, etc.\n",
    "\n",
    "* A specified prompt and function configs must be passed to `AssistantAgent` to initialize the agent. \n",
    "\n",
    "* The corresponding functions must be passed to `UserProxyAgent`, which will execute any function calls made by `AssistantAgent`.\n",
    "\n",
    "* Besides this requirement of matching descriptions with functions, we recommend checking the system message in the `AssistantAgent` to ensure the instructions align with the function call descriptions.\n",
    "\n",
    "\n",
    "## Requirements\n",
    "\n",
    "AutoGen requires `Python>=3.8`. To run this notebook example, please install `pyautogen`:\n",
    "```bash\n",
    "pip install pyautogen\n",
    "```"
   ]
  },
  {
   "cell_type": "code",
   "execution_count": 1,
   "id": "2b803c17",
   "metadata": {},
   "outputs": [],
   "source": [
    "# %pip install \"pyautogen>=0.2.3\""
   ]
  },
  {
   "cell_type": "markdown",
   "id": "b9c534d5",
   "metadata": {},
   "source": [
    "### Imports"
   ]
  },
  {
   "cell_type": "code",
   "execution_count": 2,
   "id": "dca301a4",
   "metadata": {},
   "outputs": [
    {
     "name": "stderr",
     "output_type": "stream",
     "text": [
      "flaml.automl is not available. Please install flaml[automl] to enable AutoML functionalities.\n"
     ]
    },
    {
     "name": "stdout",
     "output_type": "stream",
     "text": [
      "Environment variables loaded successfully\n"
     ]
    }
   ],
   "source": [
    "#from typing import Literal\n",
    "from typing_extensions import Annotated\n",
    "import autogen\n",
    "from autogen.cache import Cache\n",
    "from aisTools_r1 import calculate, currency_converter, ddg_search, get_news\n",
    "\n",
    "#config_list = autogen.config_list_from_json(\n",
    "#    \"OAI_CONFIG_LIST\",\n",
    "#    filter_dict={\"tags\": [\"3.5-tool\"]},  # comment out to get all\n",
    "#)"
   ]
  },
  {
   "cell_type": "markdown",
   "id": "1082df8a",
   "metadata": {},
   "source": [
    "### LLM Configuration setting"
   ]
  },
  {
   "cell_type": "code",
   "execution_count": 3,
   "id": "f652657a",
   "metadata": {},
   "outputs": [],
   "source": [
    "import os\n",
    "config_list = [{\"api_type\":\"groq\",\"model\":\"llama3-70b-8192\",\"api_key\":os.environ.get(\"GROQ_API_KEY\"),}]\n",
    "\n",
    "llm_config = {\n",
    "    \"config_list\": config_list,\n",
    "    \"timeout\": 120,\n",
    "}"
   ]
  },
  {
   "cell_type": "markdown",
   "id": "bd9d61cf",
   "metadata": {},
   "source": [
    "## Creating Agents"
   ]
  },
  {
   "cell_type": "code",
   "execution_count": 4,
   "id": "7b3d8b58",
   "metadata": {},
   "outputs": [],
   "source": [
    "# Creating chatbot\n",
    "Assistant_Agent = autogen.AssistantAgent(\n",
    "    name=\"assistant_agent\",\n",
    "    system_message=\"\"\"You are an intelligent agent capable of answering questions and performing tasks, like \n",
    "    For currency exchange tasks, web search tasks and news search tasks when required. only use the functions you have been provided with.\n",
    "    Reply TERMINATE when the task is done.\"\"\",\n",
    "    llm_config=llm_config,\n",
    ")\n",
    "\n",
    "# create a UserProxyAgent instance named \"user_proxy\" \n",
    "user_proxy = autogen.UserProxyAgent(\n",
    "    name=\"user_proxy\",\n",
    "    is_termination_msg=lambda x: x.get(\"content\", \"\") and x.get(\"content\", \"\").rstrip().endswith(\"TERMINATE\"),\n",
    "    human_input_mode=\"NEVER\",\n",
    "    max_consecutive_auto_reply=10,\n",
    ")"
   ]
  },
  {
   "cell_type": "markdown",
   "id": "83e63535",
   "metadata": {},
   "source": [
    "### Tools Functions (converting to autogen recommended format)"
   ]
  },
  {
   "cell_type": "code",
   "execution_count": 5,
   "id": "dd0fe8a2",
   "metadata": {},
   "outputs": [],
   "source": [
    "def currency_converter_ag(\n",
    "    amount: Annotated[str, \"Amount of currency in base_currency\"],\n",
    "    base_currency: Annotated[str, \"Base_currency symbol\"] = \"USD\",\n",
    "    quote_currency: Annotated[str, \"Quote currency symbol\"] = \"GBP\",\n",
    ") -> str:\n",
    "    result = currency_converter(amount, base_currency, quote_currency)\n",
    "    return result\n",
    "\n",
    "def ddg_search_ag(\n",
    "    topic: Annotated[str, \"Topic to search for news\"]=\"world news\",\n",
    "    num_headlines: Annotated[int, \"Number of headlines to return\"] = 5,\n",
    "    )-> str:\n",
    "    search_results = ddg_search(topic, num_headlines)\n",
    "    return search_results\n",
    " \n",
    "def get_news_ag(\n",
    "    topic: Annotated[str, \"Topic to search for news\"]=\"world news\",\n",
    "    num_headlines: Annotated[int, \"Number of headlines to return\"] = 5,\n",
    "    )-> str:\n",
    "    news_results = get_news(topic, num_headlines)\n",
    "    return news_results"
   ]
  },
  {
   "cell_type": "markdown",
   "id": "d049580e",
   "metadata": {},
   "source": [
    "### Registering the tools with Agents"
   ]
  },
  {
   "cell_type": "code",
   "execution_count": 6,
   "id": "8d84cc6c",
   "metadata": {},
   "outputs": [],
   "source": [
    "autogen.agentchat.register_function(\n",
    "    currency_converter_ag,\n",
    "    caller=Assistant_Agent,\n",
    "    executor=user_proxy,\n",
    "    description=\"Currency exchange calculator.\",\n",
    ")\n",
    "\n",
    "autogen.agentchat.register_function(\n",
    "    ddg_search_ag,\n",
    "    caller=Assistant_Agent,\n",
    "    executor=user_proxy,\n",
    "    description=\"Search on DuckDuckGo.\",\n",
    ")\n",
    "\n",
    "autogen.agentchat.register_function(\n",
    "    get_news_ag,\n",
    "    caller=Assistant_Agent,\n",
    "    executor=user_proxy,\n",
    "    description=\"Get latest news.\",\n",
    ")\n"
   ]
  },
  {
   "cell_type": "markdown",
   "id": "4b9047cb",
   "metadata": {},
   "source": [
    "### Checking Tools availability with Assistant Agent"
   ]
  },
  {
   "cell_type": "code",
   "execution_count": 7,
   "id": "971ed0d5",
   "metadata": {},
   "outputs": [
    {
     "data": {
      "text/plain": [
       "[{'type': 'function',\n",
       "  'function': {'description': 'Currency exchange calculator.',\n",
       "   'name': 'currency_converter_ag',\n",
       "   'parameters': {'type': 'object',\n",
       "    'properties': {'amount': {'type': 'string',\n",
       "      'description': 'Amount of currency in base_currency'},\n",
       "     'base_currency': {'type': 'string',\n",
       "      'default': 'USD',\n",
       "      'description': 'Base_currency symbol'},\n",
       "     'quote_currency': {'type': 'string',\n",
       "      'default': 'GBP',\n",
       "      'description': 'Quote currency symbol'}},\n",
       "    'required': ['amount']}}},\n",
       " {'type': 'function',\n",
       "  'function': {'description': 'Search on DuckDuckGo.',\n",
       "   'name': 'ddg_search_ag',\n",
       "   'parameters': {'type': 'object',\n",
       "    'properties': {'topic': {'type': 'string',\n",
       "      'default': 'world news',\n",
       "      'description': 'Topic to search for news'},\n",
       "     'num_headlines': {'type': 'integer',\n",
       "      'default': 5,\n",
       "      'description': 'Number of headlines to return'}},\n",
       "    'required': []}}},\n",
       " {'type': 'function',\n",
       "  'function': {'description': 'Get latest news.',\n",
       "   'name': 'get_news_ag',\n",
       "   'parameters': {'type': 'object',\n",
       "    'properties': {'topic': {'type': 'string',\n",
       "      'default': 'world news',\n",
       "      'description': 'Topic to search for news'},\n",
       "     'num_headlines': {'type': 'integer',\n",
       "      'default': 5,\n",
       "      'description': 'Number of headlines to return'}},\n",
       "    'required': []}}}]"
      ]
     },
     "execution_count": 7,
     "metadata": {},
     "output_type": "execute_result"
    }
   ],
   "source": [
    "Assistant_Agent.llm_config[\"tools\"]"
   ]
  },
  {
   "cell_type": "markdown",
   "id": "4341e118",
   "metadata": {},
   "source": [
    "### Sample 1 Query"
   ]
  },
  {
   "cell_type": "code",
   "execution_count": 8,
   "id": "ab081090",
   "metadata": {},
   "outputs": [
    {
     "name": "stdout",
     "output_type": "stream",
     "text": [
      "\u001b[33muser_proxy\u001b[0m (to assistant_agent):\n",
      "\n",
      "What's the latest news about AI (give bulleted list) and how much is 100 USD in EUR?\n",
      "\n",
      "--------------------------------------------------------------------------------\n",
      "\u001b[33massistant_agent\u001b[0m (to user_proxy):\n",
      "\n",
      "\u001b[32m***** Suggested tool call (call_znkc): get_news_ag *****\u001b[0m\n",
      "Arguments: \n",
      "{\"num_headlines\":3,\"topic\":\"AI\"}\n",
      "\u001b[32m********************************************************\u001b[0m\n",
      "\n",
      "--------------------------------------------------------------------------------\n",
      "\u001b[35m\n",
      ">>>>>>>> EXECUTING FUNCTION get_news_ag...\u001b[0m\n",
      "\u001b[33muser_proxy\u001b[0m (to assistant_agent):\n",
      "\n",
      "\u001b[33muser_proxy\u001b[0m (to assistant_agent):\n",
      "\n",
      "\u001b[32m***** Response from calling tool (call_znkc) *****\u001b[0m\n",
      "[\n",
      "  {\n",
      "    \"date\": \"2024-09-28T00:36:00+00:00\",\n",
      "    \"title\": \"AI Surge Could Trigger Global Chip Shortage by 2026, Research Finds\",\n",
      "    \"body\": \"The AI boom risks triggering global chip shortage by 2026, as soaring GPU demand, data center expansion, and geopolitical tensions strain supply chains.\",\n",
      "    \"url\": \"https://www.techrepublic.com/article/ai-chip-shortage-global-supply-crisis/\",\n",
      "    \"image\": \"https://assets.techrepublic.com/uploads/2024/09/tr_20240927-ai-chip-shortage-global-supply-crisis.jpg\",\n",
      "    \"source\": \"TechRepublic\"\n",
      "  },\n",
      "  {\n",
      "    \"date\": \"2024-09-27T19:07:00+00:00\",\n",
      "    \"title\": \"AI dominated both YC Demo Day and startup news\",\n",
      "    \"body\": \"Welcome to Startups Weekly \\u2014 your weekly recap of everything you can't miss from the world of startups. Want it in your inbox every Friday? Sign up here.\",\n",
      "    \"url\": \"https://www.msn.com/en-us/money/other/ai-dominated-both-yc-demo-day-and-startup-news/ar-AA1rkPFG\",\n",
      "    \"image\": \"https://techcrunch.com/wp-content/uploads/2015/12/shutterstock_228897490.png?resize=1200,675\",\n",
      "    \"source\": \"TechCrunch on MSN.com\"\n",
      "  },\n",
      "  {\n",
      "    \"date\": \"2024-09-27T19:45:00+00:00\",\n",
      "    \"title\": \"Reflections On Agentic AI\",\n",
      "    \"body\": \"Agentic AI has the potential to revolutionize enterprise work but will need a strong foundation of data and a new symbiotic relationship between humans and AI\",\n",
      "    \"url\": \"https://www.forbes.com/sites/sanjaysrivastava/2024/09/27/reflections-on-agentic-ai/\",\n",
      "    \"image\": \"https://imageio.forbes.com/specials-images/imageserve/66f7036a185af943e978f444/0x0.jpg?format=jpg&crop=2894,1627,x0,y147,safe&height=900&width=1600&fit=bounds\",\n",
      "    \"source\": \"Forbes\"\n",
      "  }\n",
      "]\n",
      "\u001b[32m**************************************************\u001b[0m\n",
      "\n",
      "--------------------------------------------------------------------------------\n",
      "\u001b[33massistant_agent\u001b[0m (to user_proxy):\n",
      "\n",
      "\u001b[32m***** Suggested tool call (call_vqgw): currency_converter_ag *****\u001b[0m\n",
      "Arguments: \n",
      "{\"amount\":\"100\",\"base_currency\":\"USD\",\"quote_currency\":\"EUR\"}\n",
      "\u001b[32m******************************************************************\u001b[0m\n",
      "\n",
      "--------------------------------------------------------------------------------\n",
      "\u001b[35m\n",
      ">>>>>>>> EXECUTING FUNCTION currency_converter_ag...\u001b[0m\n",
      "\u001b[33muser_proxy\u001b[0m (to assistant_agent):\n",
      "\n",
      "\u001b[33muser_proxy\u001b[0m (to assistant_agent):\n",
      "\n",
      "\u001b[32m***** Response from calling tool (call_vqgw) *****\u001b[0m\n",
      "100.0 USD is equal to 89.57 EUR\n",
      "\u001b[32m**************************************************\u001b[0m\n",
      "\n",
      "--------------------------------------------------------------------------------\n",
      "\u001b[33massistant_agent\u001b[0m (to user_proxy):\n",
      "\n",
      "Here is the latest news about AI:\n",
      "\n",
      "• AI Surge Could Trigger Global Chip Shortage by 2026, Research Finds\n",
      "• AI dominated both YC Demo Day and startup news\n",
      "• Reflections On Agentic AI\n",
      "\n",
      "And, 100.0 USD is equal to 89.57 EUR.\n",
      "\n",
      "--------------------------------------------------------------------------------\n",
      "\u001b[33muser_proxy\u001b[0m (to assistant_agent):\n",
      "\n",
      "\n",
      "\n",
      "--------------------------------------------------------------------------------\n",
      "\u001b[33massistant_agent\u001b[0m (to user_proxy):\n",
      "\n",
      "TERMINATE\n",
      "\n",
      "--------------------------------------------------------------------------------\n"
     ]
    }
   ],
   "source": [
    "with Cache.disk() as cache:\n",
    "    # start the conversation\n",
    "    query = \"What's the latest news about AI (give bulleted list) and how much is 100 USD in EUR?\"\n",
    "    \n",
    "    res = user_proxy.initiate_chat(Assistant_Agent, message=query, summary_method=\"reflection_with_llm\", cache=cache)"
   ]
  },
  {
   "cell_type": "markdown",
   "id": "d0ce1af9",
   "metadata": {},
   "source": [
    "### Sample 2 Query"
   ]
  },
  {
   "cell_type": "code",
   "execution_count": 9,
   "id": "a08dba6e",
   "metadata": {},
   "outputs": [
    {
     "name": "stdout",
     "output_type": "stream",
     "text": [
      "\u001b[33muser_proxy\u001b[0m (to assistant_agent):\n",
      "\n",
      "What is current top trending World news?, give the result in bullets. Also what is current USD to GBP rate?\n",
      "\n",
      "--------------------------------------------------------------------------------\n",
      "\u001b[33massistant_agent\u001b[0m (to user_proxy):\n",
      "\n",
      "\u001b[32m***** Suggested tool call (call_r85e): get_news_ag *****\u001b[0m\n",
      "Arguments: \n",
      "{\"num_headlines\":5,\"topic\":\"world news\"}\n",
      "\u001b[32m********************************************************\u001b[0m\n",
      "\u001b[32m***** Suggested tool call (call_p2fv): currency_converter_ag *****\u001b[0m\n",
      "Arguments: \n",
      "{\"amount\":\"1\",\"base_currency\":\"USD\",\"quote_currency\":\"GBP\"}\n",
      "\u001b[32m******************************************************************\u001b[0m\n",
      "\n",
      "--------------------------------------------------------------------------------\n",
      "\u001b[35m\n",
      ">>>>>>>> EXECUTING FUNCTION get_news_ag...\u001b[0m\n",
      "\u001b[35m\n",
      ">>>>>>>> EXECUTING FUNCTION currency_converter_ag...\u001b[0m\n",
      "\u001b[33muser_proxy\u001b[0m (to assistant_agent):\n",
      "\n",
      "\u001b[33muser_proxy\u001b[0m (to assistant_agent):\n",
      "\n",
      "\u001b[32m***** Response from calling tool (call_r85e) *****\u001b[0m\n",
      "[\n",
      "  {\n",
      "    \"date\": \"2024-09-27T22:18:00+00:00\",\n",
      "    \"title\": \"Charismatic and shrewd: A look at longtime Hezbollah leader Hassan Narallah\",\n",
      "    \"body\": \"Hezbollah leader Hassan Nasrallah has led the Lebanese militant group for the past three decades and transformed it into one of the most powerful paramilitary groups in the Middle East. Israeli\",\n",
      "    \"url\": \"https://www.msn.com/en-us/news/world/charismatic-and-shrewd-a-look-at-longtime-hezbollah-leader-hassan-narallah/ar-AA1rlhWc\",\n",
      "    \"image\": \"https://www.bing.com/th?id=OVFT.aZXH7_wck1xAPgN1IOuSVy&pid=News\",\n",
      "    \"source\": \"The Associated Press\"\n",
      "  },\n",
      "  {\n",
      "    \"date\": \"2024-09-27T22:36:00+00:00\",\n",
      "    \"title\": \"Israel Strikes Hezbollah After Netanyahu Vows to Continue Fight Against Militants\",\n",
      "    \"body\": \"BEIRUT\\u2014Israel launched airstrikes it said targeted Hezbollah in Beirut's southern suburbs, shortly after Israeli Prime Minister Benjamin Netanyahu vowed to continue his country's military campaign\",\n",
      "    \"url\": \"https://www.msn.com/en-us/news/world/israel-takes-aim-at-hezbollah-leader-nasrallah-in-massive-beirut-airstrike/ar-AA1rjv4G\",\n",
      "    \"image\": \"https://www.bing.com/th?id=OVFT.0qW2YF-NLItEVBvcxY67oy&pid=News\",\n",
      "    \"source\": \"The Wall Street Journal\"\n",
      "  },\n",
      "  {\n",
      "    \"date\": \"2024-09-27T15:34:00+00:00\",\n",
      "    \"title\": \"Israel says it struck Hezbollah's headquarters as huge explosions rocked Beirut\",\n",
      "    \"body\": \"The Israeli military said Friday it carried out an airstrike on the central headquarters of Hezbollah in Beirut, where a massive explosion leveled buildings in a southern district, sending clouds of\",\n",
      "    \"url\": \"https://www.msn.com/en-us/news/world/israel-says-it-struck-hezbollahs-headquarters-in-huge-explosion-that-shakes-lebanese-capital/ar-AA1rkhYw\",\n",
      "    \"image\": \"https://www.bing.com/th?id=OVFT.778b0oqtXr-Y2xWfVpzI7C&pid=News\",\n",
      "    \"source\": \"The Associated Press\"\n",
      "  },\n",
      "  {\n",
      "    \"date\": \"2024-09-27T19:15:00+00:00\",\n",
      "    \"title\": \"Pope vows to root out 'scourge' of sexual abuse after unusually frank plea from Belgian PM\",\n",
      "    \"body\": \"Pope Francis has pledged to root out the \\\"scourge\\\" of clerical sexual abuse after Belgium's prime minster urged him in unusually frank terms to take concrete action on the issue, listen to victims\",\n",
      "    \"url\": \"https://www.msn.com/en-us/news/world/pope-vows-to-root-out-scourge-of-sexual-abuse-after-unusually-frank-plea-from-belgian-pm/ar-AA1rk8XU\",\n",
      "    \"image\": \"\",\n",
      "    \"source\": \"CNN\"\n",
      "  },\n",
      "  {\n",
      "    \"date\": \"2024-09-28T00:01:00+00:00\",\n",
      "    \"title\": \"Israeli troops on Lebanon border say they're ready for ground invasion\",\n",
      "    \"body\": \"While diplomats scrambled to avert all-out war, Prime Minister Benjamin Netanyahu told the U.N. General Assembly that Israel would \\\"fight until we achieve victory.\\\"\",\n",
      "    \"url\": \"https://www.msn.com/en-us/news/world/israeli-troops-on-lebanon-border-say-they-re-ready-for-ground-invasion/ar-AA1rlpHq\",\n",
      "    \"image\": \"https://www.bing.com/th?id=OVFT.pYkX5PgM0zIg_7r0_8LyjC&pid=News\",\n",
      "    \"source\": \"The Washington Post\"\n",
      "  }\n",
      "]\n",
      "\u001b[32m**************************************************\u001b[0m\n",
      "\n",
      "--------------------------------------------------------------------------------\n",
      "\u001b[33muser_proxy\u001b[0m (to assistant_agent):\n",
      "\n",
      "\u001b[32m***** Response from calling tool (call_p2fv) *****\u001b[0m\n",
      "1.0 USD is equal to 0.75 GBP\n",
      "\u001b[32m**************************************************\u001b[0m\n",
      "\n",
      "--------------------------------------------------------------------------------\n",
      "\u001b[33massistant_agent\u001b[0m (to user_proxy):\n",
      "\n",
      "Here is the result in bullets for the top trending World news:\n",
      "\n",
      "• Charismatic and shrewd: A look at longtime Hezbollah leader Hassan Narallah\n",
      "• Israel Strikes Hezbollah After Netanyahu Vows to Continue Fight Against Militants\n",
      "• Israel says it struck Hezbollah's headquarters as huge explosions rocked Beirut\n",
      "• Pope vows to root out 'scourge' of sexual abuse after unusually frank plea from Belgian PM\n",
      "• Israeli troops on Lebanon border say they're ready for ground invasion\n",
      "\n",
      "And the current USD to GBP rate is: 1.0 USD is equal to 0.75 GBP\n",
      "\n",
      "--------------------------------------------------------------------------------\n",
      "\u001b[33muser_proxy\u001b[0m (to assistant_agent):\n",
      "\n",
      "\n",
      "\n",
      "--------------------------------------------------------------------------------\n",
      "\u001b[33massistant_agent\u001b[0m (to user_proxy):\n",
      "\n",
      "TERMINATE\n",
      "\n",
      "--------------------------------------------------------------------------------\n"
     ]
    }
   ],
   "source": [
    "with Cache.disk() as cache:\n",
    "    # start the conversation\n",
    "    res = user_proxy.initiate_chat(\n",
    "        Assistant_Agent, message=\"What is current top trending World news?, give the result in bullets. Also what is current USD to GBP rate?\")"
   ]
  },
  {
   "cell_type": "markdown",
   "id": "1dc772b7",
   "metadata": {},
   "source": [
    "### Sample 3 Query"
   ]
  },
  {
   "cell_type": "code",
   "execution_count": 10,
   "id": "b7cb0518",
   "metadata": {},
   "outputs": [
    {
     "name": "stdout",
     "output_type": "stream",
     "text": [
      "\u001b[33muser_proxy\u001b[0m (to assistant_agent):\n",
      "\n",
      "Where can I go and buy latest iPhone?. Give a bulleted list\n",
      "\n",
      "--------------------------------------------------------------------------------\n",
      "\u001b[33massistant_agent\u001b[0m (to user_proxy):\n",
      "\n",
      "\u001b[32m***** Suggested tool call (call_ct43): ddg_search_ag *****\u001b[0m\n",
      "Arguments: \n",
      "{\"topic\":\"Buy latest iPhone\"}\n",
      "\u001b[32m**********************************************************\u001b[0m\n",
      "\n",
      "--------------------------------------------------------------------------------\n",
      "\u001b[35m\n",
      ">>>>>>>> EXECUTING FUNCTION ddg_search_ag...\u001b[0m\n",
      "\u001b[33muser_proxy\u001b[0m (to assistant_agent):\n",
      "\n",
      "\u001b[33muser_proxy\u001b[0m (to assistant_agent):\n",
      "\n",
      "\u001b[32m***** Response from calling tool (call_ct43) *****\u001b[0m\n",
      "[\n",
      "  {\n",
      "    \"title\": \"Buy iPhone - Apple\",\n",
      "    \"href\": \"https://www.apple.com/shop/buy-iphone\",\n",
      "    \"body\": \"AT&T iPhone 15 Special Deal: Buy an iPhone 15 128 GB and get $154.36 in bill credits applied over 36 months. Buy an iPhone 15 256 GB and get $74.36 in bill credits applied over 36 months. ... Requires purchase and activation of a new iPhone 16 Pro, iPhone 16 Pro Max, iPhone 16, or iPhone 16 Plus with the Verizon Device Payment Program at 0% APR ...\"\n",
      "  },\n",
      "  {\n",
      "    \"title\": \"iPhone - Buying iPhone - Apple\",\n",
      "    \"href\": \"https://www.apple.com/iphone/buy/\",\n",
      "    \"body\": \"Additional terms from Apple, Verizon, and Apple's trade-in partners may apply. Price for iPhone 16 and iPhone 16 Plus includes $30 Verizon connectivity discount. Activation required. AT&T iPhone 15 Special Deal: Buy an iPhone 15 128 GB and get $154.36 in bill credits applied over 36 months.\"\n",
      "  },\n",
      "  {\n",
      "    \"title\": \"iPhone - Apple\",\n",
      "    \"href\": \"https://www.apple.com/iphone/\",\n",
      "    \"body\": \"Price for iPhone 16 and iPhone 16 Plus includes $30 AT&T connectivity discount. Activation required. Boost Mobile iPhone 16 Special Deal: Buy an iPhone 16 Pro, iPhone 16 Pro Max, iPhone 16, or iPhone 16 Plus and get $1000 in bill credits (not to exceed the cost of the iPhone) applied over 36 months.\"\n",
      "  },\n",
      "  {\n",
      "    \"title\": \"iPhone: New Apple iPhones & Accessories - Best Buy\",\n",
      "    \"href\": \"https://www.bestbuy.com/site/mobile-cell-phones/iphone/pcmcat305200050000.c?id=pcmcat305200050000\",\n",
      "    \"body\": \"Get more out of your updated iPhone when you buy accessories for the latest iPhone model. Start with the necessities, like a properly fitted iPhone case and screen protector. Then, if you need to keep your iPhone charged up when you're on the go, consider a portable battery charger or a wireless charging pad.Some portable chargers are compact enough to slip into your pocket or purse.\"\n",
      "  },\n",
      "  {\n",
      "    \"title\": \"Apple - iPhone 13 5G 128GB (Unlocked) - Midnight - Best Buy\",\n",
      "    \"href\": \"https://www.bestbuy.com/site/apple-iphone-13-5g-128gb-unlocked-midnight/6417788.p\",\n",
      "    \"body\": \"Features. iPhone 13. The most advanced dual-camera system ever on iPhone. Lightning-fast A15 Bionic chip. A big leap in battery life. Durable design. Superfast 5G.\\u00b9 And a brighter Super Retina XDR display. Cinematic mode adds shallow depth of field and shifts focus automatically in your videos.\"\n",
      "  }\n",
      "]\n",
      "\u001b[32m**************************************************\u001b[0m\n",
      "\n",
      "--------------------------------------------------------------------------------\n",
      "\u001b[33massistant_agent\u001b[0m (to user_proxy):\n",
      "\n",
      "You can buy the latest iPhone at:\n",
      "\n",
      "* Apple's official website (https://www.apple.com/shop/buy-iphone)\n",
      "* Apple's iPhone buying page (https://www.apple.com/iphone/buy/)\n",
      "* Best Buy (https://www.bestbuy.com/site/mobile-cell-phones/iphone/pcmcat305200050000.c?id=pcmcat305200050000)\n",
      "\n",
      "Please note that the availability and deals may vary depending on your location and the retailer.\n",
      "\n",
      "--------------------------------------------------------------------------------\n",
      "\u001b[33muser_proxy\u001b[0m (to assistant_agent):\n",
      "\n",
      "\n",
      "\n",
      "--------------------------------------------------------------------------------\n",
      "\u001b[33massistant_agent\u001b[0m (to user_proxy):\n",
      "\n",
      "TERMINATE\n",
      "\n",
      "--------------------------------------------------------------------------------\n"
     ]
    }
   ],
   "source": [
    "with Cache.disk() as cache:\n",
    "    # start the conversation\n",
    "    res = user_proxy.initiate_chat(\n",
    "        Assistant_Agent, message=\"Where can I go and buy latest iPhone?. Give a bulleted list\")"
   ]
  },
  {
   "cell_type": "code",
   "execution_count": null,
   "id": "a6a690d5",
   "metadata": {},
   "outputs": [],
   "source": []
  }
 ],
 "metadata": {
  "front_matter": {
   "description": "Learn how to register function calls using AssistantAgent and UserProxyAgent in AutoGen.",
   "tags": [
    "function call",
    "tool use"
   ]
  },
  "kernelspec": {
   "display_name": "flaml_dev",
   "language": "python",
   "name": "python3"
  },
  "language_info": {
   "codemirror_mode": {
    "name": "ipython",
    "version": 3
   },
   "file_extension": ".py",
   "mimetype": "text/x-python",
   "name": "python",
   "nbconvert_exporter": "python",
   "pygments_lexer": "ipython3",
   "version": "3.11.9"
  }
 },
 "nbformat": 4,
 "nbformat_minor": 5
}
